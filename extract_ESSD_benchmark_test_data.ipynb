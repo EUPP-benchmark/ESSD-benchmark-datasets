{
 "cells": [
  {
   "cell_type": "markdown",
   "id": "a59fd50e",
   "metadata": {},
   "source": [
    "## Preambula"
   ]
  },
  {
   "cell_type": "code",
   "execution_count": null,
   "id": "4f315457",
   "metadata": {},
   "outputs": [],
   "source": [
    "import xarray as xr"
   ]
  },
  {
   "cell_type": "code",
   "execution_count": null,
   "id": "e120b84d",
   "metadata": {
    "scrolled": false
   },
   "outputs": [],
   "source": [
    "import fsspec"
   ]
  },
  {
   "cell_type": "code",
   "execution_count": null,
   "id": "e6768772",
   "metadata": {},
   "outputs": [],
   "source": [
    "import numpy as np"
   ]
  },
  {
   "cell_type": "code",
   "execution_count": null,
   "id": "e57bbf4a",
   "metadata": {},
   "outputs": [],
   "source": [
    "import config"
   ]
  },
  {
   "cell_type": "code",
   "execution_count": null,
   "id": "cfcdba58",
   "metadata": {},
   "outputs": [],
   "source": [
    "import matplotlib.pyplot as plt"
   ]
  },
  {
   "cell_type": "code",
   "execution_count": null,
   "id": "0e6a3fde",
   "metadata": {},
   "outputs": [],
   "source": [
    "countries = ['france', 'austria', 'netherlands', 'germany']  # Switzerland will not be available online, Belgium soon"
   ]
  },
  {
   "cell_type": "markdown",
   "id": "5c938cf2",
   "metadata": {},
   "source": [
    "## Extracting the countries t2m data"
   ]
  },
  {
   "cell_type": "code",
   "execution_count": null,
   "id": "ac22c4f9",
   "metadata": {},
   "outputs": [],
   "source": [
    "fcs_t2m = list()\n",
    "obs_t2m = list()\n",
    "\n",
    "sources_list = []\n",
    "land_usage_source = None\n",
    "land_usage_legend = None\n",
    "model_altitude_source = None\n",
    "\n",
    "for country in countries:\n",
    "    target_fcs = fsspec.get_mapper(\"https://storage.ecmwf.europeanweather.cloud/eumetnet-postprocessing-benchmark-1st-phase-training-dataset/data/stations_data/stations_ensemble_forecasts_surface_\" + country + \".zarr\")\n",
    "    target_obs = fsspec.get_mapper(\"https://storage.ecmwf.europeanweather.cloud/eumetnet-postprocessing-benchmark-1st-phase-training-dataset/data/stations_data/stations_forecasts_observations_surface_\" + country + \".zarr\")\n",
    "    \n",
    "    fcs = xr.open_zarr(target_fcs)\n",
    "    \n",
    "    model_altitude_source = fcs.attrs['model altitude source']\n",
    "\n",
    "    fcs_t2m.append(fcs.t2m.load())\n",
    "    fcs.close()\n",
    "    \n",
    "    obs = xr.open_zarr(target_obs)\n",
    "    \n",
    "    sources_list.append(obs.attrs['source'])\n",
    "    land_usage_source = obs.attrs['land usage source']\n",
    "    land_usage_legend = obs.attrs['land usage legend']\n",
    "\n",
    "    \n",
    "    obs_t2m.append(obs.t2m.load())\n",
    "    \n",
    "    obs.close()\n",
    "       \n"
   ]
  },
  {
   "cell_type": "code",
   "execution_count": null,
   "id": "c6f082ce",
   "metadata": {},
   "outputs": [],
   "source": [
    "sources = '; '.join(sources_list)"
   ]
  },
  {
   "cell_type": "code",
   "execution_count": null,
   "id": "396d80d2",
   "metadata": {},
   "outputs": [],
   "source": [
    "essd_fcs = xr.concat(fcs_t2m, dim='station_id')\n",
    "essd_obs = xr.concat(obs_t2m, dim='station_id')\n",
    "essd_obs.attrs['sources'] = sources\n",
    "essd_obs.attrs['land usage source'] = land_usage_source\n",
    "essd_obs.attrs['land usage legend'] = land_usage_legend\n",
    "essd_fcs.attrs['model altitude source'] = model_altitude_source\n",
    "essd_fcs.attrs['land usage source'] = land_usage_source\n",
    "essd_fcs.attrs['land usage legend'] = land_usage_legend\n"
   ]
  },
  {
   "cell_type": "markdown",
   "id": "1614ca1e",
   "metadata": {},
   "source": [
    "## Reordering the data"
   ]
  },
  {
   "cell_type": "code",
   "execution_count": null,
   "id": "55cd1e36",
   "metadata": {},
   "outputs": [],
   "source": [
    "essd_fcs = essd_fcs.squeeze(drop=True).transpose('station_id', 'time', 'step', 'number')\n",
    "essd_obs = essd_obs.transpose('station_id', 'time', 'step')"
   ]
  },
  {
   "cell_type": "markdown",
   "id": "14263ca1",
   "metadata": {},
   "source": [
    "## Dropping stations with no data"
   ]
  },
  {
   "cell_type": "code",
   "execution_count": null,
   "id": "57703b11",
   "metadata": {
    "scrolled": false
   },
   "outputs": [],
   "source": [
    "nodata = np.isnan(essd_obs.to_numpy()).all(axis=(1,2))"
   ]
  },
  {
   "cell_type": "code",
   "execution_count": null,
   "id": "ccbe0bd7",
   "metadata": {},
   "outputs": [],
   "source": [
    "essd_obs = essd_obs.isel(station_id=~nodata)"
   ]
  },
  {
   "cell_type": "code",
   "execution_count": null,
   "id": "b2e466ce",
   "metadata": {},
   "outputs": [],
   "source": [
    "essd_fcs = essd_fcs.isel(station_id=~nodata)"
   ]
  },
  {
   "cell_type": "markdown",
   "id": "d470f79e",
   "metadata": {},
   "source": [
    "## Final test"
   ]
  },
  {
   "cell_type": "code",
   "execution_count": null,
   "id": "54e226a4",
   "metadata": {
    "scrolled": false
   },
   "outputs": [],
   "source": [
    "essd_fcs"
   ]
  },
  {
   "cell_type": "code",
   "execution_count": null,
   "id": "c6671ffd",
   "metadata": {},
   "outputs": [],
   "source": [
    "assert(np.all(essd_obs.station_id.to_numpy() == essd_fcs.station_id.to_numpy()))"
   ]
  },
  {
   "cell_type": "code",
   "execution_count": null,
   "id": "6a3590f2",
   "metadata": {},
   "outputs": [],
   "source": [
    "np.savetxt('station_id_order.txt', essd_obs.station_id.to_numpy())"
   ]
  },
  {
   "cell_type": "code",
   "execution_count": null,
   "id": "00cf82ce",
   "metadata": {},
   "outputs": [],
   "source": [
    "np.save('stationd_id_nodata.npy', nodata)"
   ]
  },
  {
   "cell_type": "markdown",
   "id": "77a63b05",
   "metadata": {},
   "source": [
    "## Saving the data"
   ]
  },
  {
   "cell_type": "code",
   "execution_count": null,
   "id": "87d11840",
   "metadata": {},
   "outputs": [],
   "source": [
    "essd_fcs.to_netcdf('ESSD_benchmark_test_data_forecasts.nc')\n",
    "essd_obs.to_netcdf('ESSD_benchmark_test_data_observations.nc')"
   ]
  },
  {
   "cell_type": "code",
   "execution_count": null,
   "id": "2fe741ae",
   "metadata": {},
   "outputs": [],
   "source": []
  }
 ],
 "metadata": {
  "kernelspec": {
   "display_name": "Python 3 (ipykernel)",
   "language": "python",
   "name": "python3"
  },
  "language_info": {
   "codemirror_mode": {
    "name": "ipython",
    "version": 3
   },
   "file_extension": ".py",
   "mimetype": "text/x-python",
   "name": "python",
   "nbconvert_exporter": "python",
   "pygments_lexer": "ipython3",
   "version": "3.9.0"
  }
 },
 "nbformat": 4,
 "nbformat_minor": 5
}
