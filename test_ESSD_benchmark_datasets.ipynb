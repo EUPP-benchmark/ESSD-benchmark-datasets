{
 "cells": [
  {
   "cell_type": "markdown",
   "id": "348ebfcb",
   "metadata": {},
   "source": [
    "# A test notebook for the ESSD datasets"
   ]
  },
  {
   "cell_type": "code",
   "execution_count": null,
   "id": "3386c238",
   "metadata": {},
   "outputs": [],
   "source": [
    "import xarray as xr"
   ]
  },
  {
   "cell_type": "code",
   "execution_count": null,
   "id": "25a9540e",
   "metadata": {},
   "outputs": [],
   "source": [
    "import matplotlib.pyplot as plt"
   ]
  },
  {
   "cell_type": "markdown",
   "id": "057064f2",
   "metadata": {},
   "source": [
    "## Training data"
   ]
  },
  {
   "cell_type": "code",
   "execution_count": null,
   "id": "71e79eb2",
   "metadata": {},
   "outputs": [],
   "source": [
    "fcs = xr.open_dataarray('ESSD_benchmark_training_data_forecasts.nc')\n",
    "obs = xr.open_dataarray('ESSD_benchmark_training_data_observations.nc')"
   ]
  },
  {
   "cell_type": "code",
   "execution_count": null,
   "id": "625f98cd",
   "metadata": {},
   "outputs": [],
   "source": [
    "fcs"
   ]
  },
  {
   "cell_type": "code",
   "execution_count": null,
   "id": "61c23624",
   "metadata": {},
   "outputs": [],
   "source": [
    "obs"
   ]
  },
  {
   "cell_type": "code",
   "execution_count": null,
   "id": "44d39631",
   "metadata": {},
   "outputs": [],
   "source": [
    "plt.figure(figsize=(14,10))\n",
    "fcs.isel(number=0,time=20, year=10, station_id=50).plot()\n",
    "obs.isel(time=20, year=10, station_id=50).plot()"
   ]
  },
  {
   "cell_type": "code",
   "execution_count": null,
   "id": "e85e1916",
   "metadata": {},
   "outputs": [],
   "source": [
    "plt.figure(figsize=(14,10))\n",
    "plt.plot(obs[50,:,:,3].to_numpy().flatten(), fcs[50,:,:,3,0].to_numpy().flatten(), ls='', marker='o', ms=1.)\n",
    "plt.xlabel('Observation (ERA5) [K]')\n",
    "plt.ylabel('Control Forecast [K]')\n",
    "plt.title('Control Forecast vs Observation at ' + str(4*6) + 'hrs lead time' + \n",
    "          ' and at station ' + str(obs.station_name[50].to_numpy()))"
   ]
  },
  {
   "cell_type": "code",
   "execution_count": null,
   "id": "09bf841c",
   "metadata": {},
   "outputs": [],
   "source": [
    "plt.figure(figsize=(14,10))\n",
    "plt.scatter(fcs.station_altitude.to_numpy(), fcs.model_altitude.to_numpy())\n",
    "plt.xlabel('Station altitude')\n",
    "plt.ylabel('Model grid point altitude')"
   ]
  },
  {
   "cell_type": "code",
   "execution_count": null,
   "id": "ccf946a2",
   "metadata": {},
   "outputs": [],
   "source": [
    "plt.figure(figsize=(14,10))\n",
    "plt.scatter(fcs.station_land_usage.to_numpy(), fcs.model_land_usage.to_numpy())\n",
    "plt.xlabel('Station land usage')\n",
    "plt.ylabel('Model grid point land usage')"
   ]
  },
  {
   "cell_type": "markdown",
   "id": "a5df9233",
   "metadata": {},
   "source": [
    "## Test data"
   ]
  },
  {
   "cell_type": "code",
   "execution_count": null,
   "id": "699878d8",
   "metadata": {},
   "outputs": [],
   "source": [
    "fcs = xr.open_dataarray('ESSD_benchmark_test_data_forecasts.nc')\n",
    "obs = xr.open_dataarray('ESSD_benchmark_test_data_observations.nc')"
   ]
  },
  {
   "cell_type": "code",
   "execution_count": null,
   "id": "913e9ba2",
   "metadata": {},
   "outputs": [],
   "source": [
    "fcs"
   ]
  },
  {
   "cell_type": "code",
   "execution_count": null,
   "id": "5397da0e",
   "metadata": {},
   "outputs": [],
   "source": [
    "obs"
   ]
  },
  {
   "cell_type": "code",
   "execution_count": null,
   "id": "296369f6",
   "metadata": {},
   "outputs": [],
   "source": [
    "plt.figure(figsize=(14,10))\n",
    "fcs.isel(number=0,time=50,station_id=50).plot()\n",
    "obs.isel(time=50,station_id=50).plot()"
   ]
  },
  {
   "cell_type": "code",
   "execution_count": null,
   "id": "2fdd2656",
   "metadata": {},
   "outputs": [],
   "source": [
    "plt.figure(figsize=(14,10))\n",
    "plt.plot(obs[50,:,4], fcs[50,:,4,0], ls='', marker='o', ms=1.)\n",
    "plt.xlabel('Observation (ERA5) [K]')\n",
    "plt.ylabel('Control Forecast [K]')\n",
    "plt.title('Control Forecast vs Observation at ' + str(4*6) + 'hrs lead time' + \n",
    "          ' and at station ' + str(obs.station_name[50].to_numpy()))"
   ]
  },
  {
   "cell_type": "code",
   "execution_count": null,
   "id": "ff6505dc",
   "metadata": {},
   "outputs": [],
   "source": [
    "plt.figure(figsize=(14,10))\n",
    "plt.scatter(fcs.station_altitude.to_numpy(), fcs.model_altitude.to_numpy())\n",
    "plt.xlabel('Station altitude')\n",
    "plt.ylabel('Model grid point altitude')"
   ]
  },
  {
   "cell_type": "code",
   "execution_count": null,
   "id": "f514949c",
   "metadata": {},
   "outputs": [],
   "source": [
    "plt.figure(figsize=(14,10))\n",
    "plt.scatter(fcs.station_land_usage.to_numpy(), fcs.model_land_usage.to_numpy())\n",
    "plt.xlabel('Station land usage')\n",
    "plt.ylabel('Model grid point land usage')"
   ]
  },
  {
   "cell_type": "code",
   "execution_count": null,
   "id": "7e780b85",
   "metadata": {},
   "outputs": [],
   "source": []
  }
 ],
 "metadata": {
  "kernelspec": {
   "display_name": "Python 3 (ipykernel)",
   "language": "python",
   "name": "python3"
  },
  "language_info": {
   "codemirror_mode": {
    "name": "ipython",
    "version": 3
   },
   "file_extension": ".py",
   "mimetype": "text/x-python",
   "name": "python",
   "nbconvert_exporter": "python",
   "pygments_lexer": "ipython3",
   "version": "3.9.0"
  }
 },
 "nbformat": 4,
 "nbformat_minor": 5
}
