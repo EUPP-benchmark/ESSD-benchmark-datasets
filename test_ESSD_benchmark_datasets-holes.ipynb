{
 "cells": [
  {
   "cell_type": "code",
   "execution_count": null,
   "id": "f438c778",
   "metadata": {},
   "outputs": [],
   "source": [
    "import xarray as xr"
   ]
  },
  {
   "cell_type": "code",
   "execution_count": null,
   "id": "2740b578",
   "metadata": {},
   "outputs": [],
   "source": [
    "import matplotlib.pyplot as plt"
   ]
  },
  {
   "cell_type": "code",
   "execution_count": null,
   "id": "71e79eb2",
   "metadata": {},
   "outputs": [],
   "source": [
    "fcs = xr.open_dataarray('ESSD_benchmark_training_data_forecasts.nc')\n",
    "obs = xr.open_dataarray('ESSD_benchmark_training_data_observations.nc')"
   ]
  },
  {
   "cell_type": "code",
   "execution_count": null,
   "id": "6d488187",
   "metadata": {},
   "outputs": [],
   "source": [
    "fcs_t = xr.open_dataarray('ESSD_benchmark_test_data_forecasts.nc')\n",
    "obs_t = xr.open_dataarray('ESSD_benchmark_test_data_observations.nc')"
   ]
  },
  {
   "cell_type": "code",
   "execution_count": null,
   "id": "8f19b4f3",
   "metadata": {},
   "outputs": [],
   "source": [
    "fcs_t"
   ]
  },
  {
   "cell_type": "code",
   "execution_count": null,
   "id": "c1e21010",
   "metadata": {},
   "outputs": [],
   "source": [
    "obs_t"
   ]
  },
  {
   "cell_type": "code",
   "execution_count": null,
   "id": "2923e6f3",
   "metadata": {},
   "outputs": [],
   "source": [
    "fcs"
   ]
  },
  {
   "cell_type": "code",
   "execution_count": null,
   "id": "312bf378",
   "metadata": {},
   "outputs": [],
   "source": [
    "obs"
   ]
  },
  {
   "cell_type": "code",
   "execution_count": null,
   "id": "bcae6224",
   "metadata": {
    "scrolled": false
   },
   "outputs": [],
   "source": [
    "fig = plt.figure(figsize=(14,80))\n",
    "\n",
    "ax_array = fig.subplots(10, 2)\n",
    "ax_list = ax_array.flatten()\n",
    "j=8\n",
    "for i in range(20):\n",
    "    ax = ax_list[i]\n",
    "    ax.imshow(obs.isel(step=8, year=i).to_numpy(), origin='lower', interpolation='nearest', aspect='equal')\n",
    "    ax.set_title('Year '+str(i+1))\n",
    "    ax.set_ylabel('station Id')\n",
    "    ax.set_xlabel('time')\n",
    "    \n",
    "fig.suptitle('Temperature at lead time '+str(6*j)+' hrs', fontsize=20);\n",
    "fig.tight_layout()\n",
    "fig.subplots_adjust(top=0.965)"
   ]
  },
  {
   "cell_type": "code",
   "execution_count": null,
   "id": "74cad00e",
   "metadata": {},
   "outputs": [],
   "source": []
  }
 ],
 "metadata": {
  "kernelspec": {
   "display_name": "Python 3 (ipykernel)",
   "language": "python",
   "name": "python3"
  },
  "language_info": {
   "codemirror_mode": {
    "name": "ipython",
    "version": 3
   },
   "file_extension": ".py",
   "mimetype": "text/x-python",
   "name": "python",
   "nbconvert_exporter": "python",
   "pygments_lexer": "ipython3",
   "version": "3.9.0"
  }
 },
 "nbformat": 4,
 "nbformat_minor": 5
}
